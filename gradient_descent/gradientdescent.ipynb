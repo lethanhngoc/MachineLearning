{
 "nbformat": 4,
 "nbformat_minor": 2,
 "metadata": {
  "language_info": {
   "name": "python",
   "codemirror_mode": {
    "name": "ipython",
    "version": 3
   },
   "version": "3.7.4-final"
  },
  "orig_nbformat": 2,
  "file_extension": ".py",
  "mimetype": "text/x-python",
  "name": "python",
  "npconvert_exporter": "python",
  "pygments_lexer": "ipython3",
  "version": 3,
  "kernelspec": {
   "name": "python3",
   "display_name": "Python 3"
  }
 },
 "cells": [
  {
   "cell_type": "code",
   "execution_count": 10,
   "metadata": {},
   "outputs": [],
   "source": [
    "from __future__ import division, print_function, unicode_literals  \n",
    "import math\n",
    "import numpy as np \n",
    "import matplotlib.pyplot as plt \n"
   ]
  },
  {
   "cell_type": "code",
   "execution_count": 11,
   "metadata": {},
   "outputs": [],
   "source": [
    "# calculate gradient of fx= 2x+ 5cosx\n",
    "def grad(x):\n",
    "    return x**2 + 5*np.cos(x)\n",
    "def cost(x):\n",
    "    return x**2 +5*np.sin(x)\n",
    "def myGD1(eta, x0):\n",
    "    x= [x0]\n",
    "    for it in range(100):\n",
    "        x_new = x[-1] -eta*grad(x[-1])\n",
    "        if(abs(grad(x_new)))<1e-3:\n",
    "            break\n",
    "        x.append(x_new)\n",
    "    return (x,it)\n"
   ]
  },
  {
   "cell_type": "code",
   "execution_count": 12,
   "metadata": {},
   "outputs": [
    {
     "name": "stdout",
     "output_type": "stream",
     "text": "Solution x1 = -1.110667, cost = -3.246394, obtained after 11 iterations\nSolution x2 = -1.110341, cost = -3.246394, obtained after 29 iterations\n"
    }
   ],
   "source": [
    "(x1, it1) = myGD1(.1, -5)\n",
    "(x2, it2) = myGD1(.1, 5)\n",
    "print('Solution x1 = %f, cost = %f, obtained after %d iterations'%(x1[-1], cost(x1[-1]), it1))\n",
    "print('Solution x2 = %f, cost = %f, obtained after %d iterations'%(x2[-1], cost(x2[-1]), it2))"
   ]
  }
 ]
}